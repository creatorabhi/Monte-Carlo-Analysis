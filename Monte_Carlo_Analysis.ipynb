{
  "nbformat": 4,
  "nbformat_minor": 0,
  "metadata": {
    "colab": {
      "name": "Monte-Carlo Analysis.ipynb",
      "provenance": [],
      "collapsed_sections": [],
      "authorship_tag": "ABX9TyNg5RMAPgycEToJ97+yzElI",
      "include_colab_link": true
    },
    "kernelspec": {
      "name": "python3",
      "display_name": "Python 3"
    },
    "language_info": {
      "name": "python"
    }
  },
  "cells": [
    {
      "cell_type": "markdown",
      "metadata": {
        "id": "view-in-github",
        "colab_type": "text"
      },
      "source": [
        "<a href=\"https://colab.research.google.com/github/creatorabhi/Monte-Carlo-Analysis/blob/main/Monte_Carlo_Analysis.ipynb\" target=\"_parent\"><img src=\"https://colab.research.google.com/assets/colab-badge.svg\" alt=\"Open In Colab\"/></a>"
      ]
    },
    {
      "cell_type": "code",
      "metadata": {
        "id": "0Idy7CtKsmCs"
      },
      "source": [
        "\n",
        "import numpy as np\n",
        "from scipy import stats\n",
        "import matplotlib.pyplot as plt\n",
        "import seaborn as sns\n",
        "%matplotlib inline"
      ],
      "execution_count": 2,
      "outputs": []
    },
    {
      "cell_type": "code",
      "metadata": {
        "id": "1x-qKG_Js2uj"
      },
      "source": [
        "class ProbabilityDistribution:\n",
        "    \"\"\" \n",
        "    Generating and displaying PMF/PFD \n",
        "    of uncertain factors of the Risk Model\n",
        "\n",
        "    \"\"\"\n",
        "    \n",
        "    def __init__(self):\n",
        "        pass\n",
        "                \n",
        "    def getdist_LaborCost(self):\n",
        "        \"\"\" \n",
        "        Labor cost data has Discrete Distribution\n",
        "        and so a PMF has to be generated\n",
        "        \n",
        "        \"\"\"\n",
        "        laborCostperVehicle = np.array([1500, 1550, 1600, 1650, 1700])\n",
        "        probability = (0.1, 0.2, 0.4, 0.2, 0.1)\n",
        "        dist = stats.rv_discrete(name='LaborCost', values=(laborCostperVehicle, probability))\n",
        "        return dist\n",
        "    \n",
        "    def getdist_PartCost(self):\n",
        "        \"\"\"\n",
        "        Part cost data has Uniform Distribution\n",
        "        and hence, a uniform distribution function PDF has to be generated\n",
        "        \n",
        "        \"\"\"\n",
        "        low, high = 16500, 16600\n",
        "        dist = stats.uniform(loc=low, scale=high-low)\n",
        "        return dist\n",
        "    \n",
        "    def getdist_FirstYearDemand(self):\n",
        "        \"\"\" \n",
        "        First year demand is normally distributed\n",
        "        and hence, normal distribution PDF has to be generated\n",
        "        \n",
        "        \"\"\"\n",
        "        mean, std = 3000, 900\n",
        "        dist = stats.norm(loc=mean,scale=std)\n",
        "        return dist\n",
        "        \n",
        "    def getdistOfModelUncertainParams(self):\n",
        "        \"\"\" \n",
        "        storing the distributions in a dictionary\n",
        "        and returning the dictionary\n",
        "        \n",
        "        \"\"\"\n",
        "        distOfModelUncertainParams = {}\n",
        "        distOfModelUncertainParams['cl'] = self.getdist_LaborCost()\n",
        "        distOfModelUncertainParams['cpa'] = self.getdist_PartCost()\n",
        "        distOfModelUncertainParams['d'] = self.getdist_FirstYearDemand()\n",
        "        \n",
        "        return distOfModelUncertainParams\n",
        "    \n",
        "    \n",
        "    def displayDist(self, dist = None):\n",
        "        \"\"\" to visualize the distribution of uncertain parameters\n",
        "        \"\"\"\n",
        "        # fig = plt.figure(figsize=(12,5))\n",
        "        # fig.subplots_adjust(hspace=0.2, wspace=0.4)\n",
        "        \n",
        "        # fig.suptitle('Probability Distribution of Uncertain Factors', fontsize=15)\n",
        "        \n",
        "        # ax1 = fig.add_subplot(1, 10, 1)\n",
        "\n",
        "        fig, a = plt.subplots(1,3, figsize=(20,5),squeeze=False)\n",
        "        fig.subplots_adjust(hspace=0.2, wspace=0.3)\n",
        "        fig = plt.figure(figsize=(15,30))\n",
        "        x = np.array([1500, 1550, 1600, 1650, 1700])\n",
        "        y = dist['cl'].pmf(x)\n",
        "        a[0][0].plot(x, y)\n",
        "        a[0][0].vlines(x, 0, y, colors='b', lw=3)\n",
        "        a[0][0].set_title(\"Labor Cost Per Vehicle\")\n",
        "        a[0][0].grid()\n",
        "\n",
        "        x = np.linspace(16500, 16600, 50)\n",
        "        y = dist['cpa'].pdf(x)\n",
        "        a[0][1].plot(x, y)\n",
        "        a[0][1].plot([x[0],x[-1]], [y[0],y[-1]], 'rs', c='red',linewidth=5)\n",
        "        a[0][1].set_title(\"Part Cost Per Vehicle\")\n",
        "        a[0][1].grid()\n",
        "        \n",
        "        x = np.linspace(dist['d'].ppf(0.01),dist['d'].ppf(0.99),100)\n",
        "        y = dist['d'].pdf(x)\n",
        "        a[0][2].plot(x, y, 'blue', lw=3, alpha=0.4)\n",
        "        # a[0][2].vlines(x, 0, y, colors='b', lw=3)\n",
        "        a[0][2].set_title(\"Demand\")\n",
        "        a[0][2].grid()\n",
        "        \n",
        "        # ax2 = fig.add_subplot(1, 3, 2)\n",
        "        # x = np.linspace(16500, 16600, 50)\n",
        "        # y = dist['cpa'].pdf(x)\n",
        "        # ax2.plot(x, y, ls='-', c='blue', alpha=0.4, lw=3)\n",
        "        # ax2.plot([x[0],x[-1]], [y[0],y[-1]], 'rs', c='red',linewidth=5)\n",
        "        # ax2.title.set_text(\"Part Cost Per Vehicle\")\n",
        "        # ax2.grid()\n",
        "        \n",
        "        # ax3 = fig.add_subplot(1, 3, 3)\n",
        "        # x = np.linspace(dist['d'].ppf(0.01),dist['d'].ppf(0.99),100)\n",
        "        # y = dist['d'].pdf(x)\n",
        "        # ax3.plot(x, y,'blue', lw=3, alpha=0.4)\n",
        "        # ax3.title.set_text(\"Demand\")\n",
        "        # ax3.grid()\n",
        "\n",
        "        plt.show()\n",
        "    \n",
        "    def __str__(self):\n",
        "        return \"Probability Distribution\""
      ],
      "execution_count": 29,
      "outputs": []
    },
    {
      "cell_type": "code",
      "metadata": {
        "colab": {
          "base_uri": "https://localhost:8080/",
          "height": 353
        },
        "id": "Z9TK5jMjShYa",
        "outputId": "9db09184-2bec-4de3-e2ef-2d3e37d6ce37"
      },
      "source": [
        "pd = ProbabilityDistribution()\n",
        "a=pd.getdistOfModelUncertainParams()\n",
        "pd.displayDist(a)"
      ],
      "execution_count": 30,
      "outputs": [
        {
          "output_type": "display_data",
          "data": {
            "image/png": "[encoded data removed]",
            "text/plain": [
              "<Figure size 1440x360 with 3 Axes>"
            ]
          },
          "metadata": {
            "tags": [],
            "needs_background": "light"
          }
        },
        {
          "output_type": "display_data",
          "data": {
            "text/plain": [
              "<Figure size 1080x2160 with 0 Axes>"
            ]
          },
          "metadata": {
            "tags": []
          }
        }
      ]
    },
    {
      "cell_type": "code",
      "metadata": {
        "id": "NpjHpXkzFRP7"
      },
      "source": [
        "class RiskAnalysis:\n",
        "    \n",
        "    def __init__(self, modelParams = None):\n",
        "        self.modelParams = modelParams #Certain Parameters\n",
        "        self.distOfModelUncertainParams = ProbabilityDistribution().getdistOfModelUncertainParams()\n",
        "     \n",
        "    def computeUncertainParam(self, dist):\n",
        "        \"\"\"return randomly computed value of uncertain parameter from the given distribution\n",
        "        \"\"\"\n",
        "        return dist.rvs(size=1)[0]\n",
        "    \n",
        "    def simulateProfit(self, trial, _printResult):\n",
        "        \"\"\" To perform the trial using the random value of uncertain parameters\n",
        "        return computed value of desired quantity(i.e. NetProfit)\n",
        "        \"\"\"\n",
        "        cl = self.computeUncertainParam(self.distOfModelUncertainParams['cl'])\n",
        "        cpa = self.computeUncertainParam(self.distOfModelUncertainParams['cpa'])\n",
        "        d = int(self.computeUncertainParam(self.distOfModelUncertainParams['d']))\n",
        "\n",
        "        netProfit = (self.modelParams['p'] - cl - cpa) * d - self.modelParams['cp'] \n",
        "        \n",
        "        if _printResult:\n",
        "            print('{0} | {1} | {2} | {3} | {4}'.format(trial,cl,cpa,d,netProfit))\n",
        "               \n",
        "        return netProfit\n",
        "\n",
        "    def startSimulation(self, n = 0, _printResult = True):\n",
        "        \"\"\" To perform the simulation n number of times \n",
        "        return result of n trials\n",
        "        \"\"\"\n",
        "        if _printResult:\n",
        "            print('{0} | {1} | {2} | {3} | {4}'.format('Trial','LaborCost','PartCost','Demand','NetProfit'))\n",
        "            print(\"=\"*60)\n",
        "        \n",
        "        netProfit_data = []\n",
        "        for i in range(n):\n",
        "            netProfit = self.simulateProfit(i+1, _printResult)\n",
        "            netProfit_data.append(netProfit)\n",
        "        \n",
        "        return netProfit_data\n",
        "    \n",
        "    def __str__(self):\n",
        "        return \"Risk Analysis\"    "
      ],
      "execution_count": 75,
      "outputs": []
    },
    {
      "cell_type": "code",
      "metadata": {
        "colab": {
          "base_uri": "https://localhost:8080/"
        },
        "id": "gNUZH3TGFWeR",
        "outputId": "5a4a320b-a576-4512-c036-e52e149b08d0"
      },
      "source": [
        "model = RiskAnalysis(modelParams = {'p':32800, 'cp':28000000})\n",
        "netProfit_data = model.simulateProfit(1, _printResult = True)\n",
        "netProfit_data = model.startSimulation(n = 10000, _printResult = False)"
      ],
      "execution_count": 76,
      "outputs": [
        {
          "output_type": "stream",
          "text": [
            "1 | 1500 | 16589.087749437454 | 4849 | 43333213.50297779\n"
          ],
          "name": "stdout"
        }
      ]
    },
    {
      "cell_type": "code",
      "metadata": {
        "colab": {
          "base_uri": "https://localhost:8080/",
          "height": 361
        },
        "id": "xjFsVWUKOpFa",
        "outputId": "dbad94ee-2cbc-4706-97c3-cfdfde99e77c"
      },
      "source": [
        "ax = sns.distplot(netProfit_data,\n",
        "          bins=100,\n",
        "          kde=True,\n",
        "          color='skyblue',\n",
        "          hist_kws={\"linewidth\": 15,'alpha':1},\n",
        "          kde_kws={\"color\": (0.2,0.3,0.5,0.4), \"lw\": 4, \"label\": \"KDE\"},)\n",
        "ax.set(xlabel='Net Profit', ylabel='Density')\n",
        "ax.axvline(np.mean(netProfit_data),color=(0.2,0.3,0.5,0.4), linestyle='--')"
      ],
      "execution_count": 77,
      "outputs": [
        {
          "output_type": "stream",
          "text": [
            "/usr/local/lib/python3.7/dist-packages/seaborn/distributions.py:2557: FutureWarning: `distplot` is a deprecated function and will be removed in a future version. Please adapt your code to use either `displot` (a figure-level function with similar flexibility) or `histplot` (an axes-level function for histograms).\n",
            "  warnings.warn(msg, FutureWarning)\n"
          ],
          "name": "stderr"
        },
        {
          "output_type": "execute_result",
          "data": {
            "text/plain": [
              "<matplotlib.lines.Line2D at 0x7fa10f461c10>"
            ]
          },
          "metadata": {
            "tags": []
          },
          "execution_count": 77
        },
        {
          "output_type": "display_data",
          "data": {
            "image/png": "[encoded data removed]",
            "text/plain": [
              "<Figure size 432x288 with 1 Axes>"
            ]
          },
          "metadata": {
            "tags": [],
            "needs_background": "light"
          }
        }
      ]
    },
    {
      "cell_type": "code",
      "metadata": {
        "colab": {
          "base_uri": "https://localhost:8080/"
        },
        "id": "Ny4O_wRKPB_N",
        "outputId": "9245aebe-4033-4bbb-dfb5-6ef628425daf"
      },
      "source": [
        "print(\"Mean of NetProfit: {0} \\nStandard Deviation of NetProfit: {1}\".format(np.mean(netProfit_data),np.std(netProfit_data)))"
      ],
      "execution_count": 78,
      "outputs": [
        {
          "output_type": "stream",
          "text": [
            "Mean of NetProfit: 16154808.128270105 \n",
            "Standard Deviation of NetProfit: 13201683.523229405\n"
          ],
          "name": "stdout"
        }
      ]
    }
  ]
}